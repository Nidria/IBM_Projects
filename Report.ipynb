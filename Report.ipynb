{
 "cells": [
  {
   "cell_type": "markdown",
   "metadata": {
    "collapsed": true
   },
   "source": [
    "<h1 align=center>Report</h1>"
   ]
  },
  {
   "cell_type": "markdown",
   "metadata": {},
   "source": [
    "\n",
    "<h2>Introduction</h2>"
   ]
  },
  {
   "cell_type": "markdown",
   "metadata": {},
   "source": [
    "The purpose of this project is finding the best location for a new business, in particular, I have chose restaurants and make it ideal against the competition that it could have, apart from defining which sort of group would go based on the population of the neighborhood. Thus, the parameters used will be: the already existing restaurants in general in the neighborhood, the age group of people and their income, the mentioned distance and how crowded is the neighborhood."
   ]
  },
  {
   "cell_type": "markdown",
   "metadata": {},
   "source": [
    "<h2> Information Data </h2>"
   ]
  },
  {
   "cell_type": "markdown",
   "metadata": {},
   "source": [
    "The data from the Toronto city will be explored to find the best location to open a new business such as a restaurant and make it ideal against the competition that it could have, apart from defining which sort of group would go.\n",
    "\n",
    "The mentioned data comes from:\n",
    "\n",
    "The previous tasks where we got the city of Toronto neighbourhood profiles. These ones present selected highlights from the data, but these accompanying data files provide the full data set assembled for each neighbourhood: https://en.wikipedia.org/wiki/List_of_postal_codes_of_Canada:_M\"\n",
    "and using Foursquare to get information, for example, about restaurants in Toronto: https://foursquare.com/explore?mode=url&ne=44.418088%2C-78.362732&q=Restaurant&sw=42.742978%2C-80.554504"
   ]
  },
  {
   "cell_type": "markdown",
   "metadata": {},
   "source": [
    "## Methodology <a name=\"methodology\"></a>"
   ]
  },
  {
   "cell_type": "markdown",
   "metadata": {},
   "source": [
    "1. Collecting data: location + category of every restaurant within our latitude and longitude.\n",
    "\n",
    "\n",
    "2. Exploring the density of restaurants throught Toronto using k-mean to identify a few promising areas close to center with low number of restaurants and their type.\n",
    "\n",
    "\n",
    "3. Finding the most promising areas and within those create (clusters of locations that meet some basic requirements) locations with less restaurants in radius of 0.5 km. There is also a map of all such locations to later create clusters of those locations to explore the neighborhood."
   ]
  },
  {
   "cell_type": "markdown",
   "metadata": {},
   "source": [
    "## Analysis <a name=\"analysis\"></a>"
   ]
  },
  {
   "cell_type": "markdown",
   "metadata": {},
   "source": [
    "#### Data identification, getting and cleaning.\n",
    "      \n",
    "Look for and identify the important data source and get it using wikipedia to get data about Toronto, Canada. Then, data cleaning: removing all the redundant value, that are mostly \"not assigned\" values. Later, combining neighborhoods. Now, the data is clean and ready to use."
   ]
  },
  {
   "cell_type": "markdown",
   "metadata": {},
   "source": [
    "#### Combining different data source and sorting neighborhoods based on coordinates\n",
    "\n",
    "Combining neighborhood dataset with postal address and dataset with coordinates and save them into separate dataframes. The dataframe will have details such as: the coordinates, postal code, borough and neighborhood. Finally, using folium map to see it."
   ]
  },
  {
   "cell_type": "markdown",
   "metadata": {},
   "source": [
    "#### Explore the Toronto's neighborhoods\n",
    "\n",
    "And then, exploring the neighborhoods in the city of Toronto with the coordinates and the Foresquare API that helps with the venues available. Filtering venues details for every possible new business in the earea. Finding each neighborhood with the top most common venues. Identifying the top 10 venues for every single neighborhood."
   ]
  },
  {
   "cell_type": "markdown",
   "metadata": {},
   "source": [
    "#### Clustering\n",
    "\n",
    "Using 5 clusters with the K-cluster algorithm to come up with 5 different clusters in Toronto with similar set of Venues. This will allow to explore each cluster and decide the discriminating venue categories that distinguish each cluster. Identifying the clusters and neighborhoods with maximum number restaurants and their own categories."
   ]
  },
  {
   "cell_type": "markdown",
   "metadata": {},
   "source": [
    "## Results and Discussion <a name=\"results\"></a>"
   ]
  },
  {
   "cell_type": "markdown",
   "metadata": {},
   "source": [
    "Although there is a great number of restaurants in Toronto, there are pockets of low restaurant density fairly close to city center. There are4 boroughs and 74 neighborhoods inside geograpical coordinate of (43.653963, -79.387207). Based on the resultant clusters it looks like the first and fifth cluster have higher number of resturants than the rest of the clusters. "
   ]
  },
  {
   "cell_type": "markdown",
   "metadata": {},
   "source": [
    "## Conclusion <a name=\"conclusion\"></a>"
   ]
  },
  {
   "cell_type": "markdown",
   "metadata": {},
   "source": [
    "Purpose of this project was to identify areas in Toronto with low number of restaurants in order to aid stakeholders in narrowing down the search for optimal location for a new restaurant by calculating restaurant density distribution from Foursquare data we have first identified general boroughs that justify further analysis. The final decission on optimal restaurant location will be made by stakeholders based on specific characteristics of neighborhoods and locations in every recommended zone."
   ]
  }
 ],
 "metadata": {
  "kernelspec": {
   "display_name": "Python 3",
   "language": "python",
   "name": "python3"
  },
  "language_info": {
   "codemirror_mode": {
    "name": "ipython",
    "version": 3
   },
   "file_extension": ".py",
   "mimetype": "text/x-python",
   "name": "python",
   "nbconvert_exporter": "python",
   "pygments_lexer": "ipython3",
   "version": "3.7.4"
  }
 },
 "nbformat": 4,
 "nbformat_minor": 1
}
