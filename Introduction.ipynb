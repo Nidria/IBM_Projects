{
 "cells": [
  {
   "cell_type": "markdown",
   "metadata": {
    "collapsed": true
   },
   "source": [
    "\n",
    "    \n",
    " <h1> The Battle of Neighborhoods </h1>\n",
    " \n"
   ]
  },
  {
   "cell_type": "markdown",
   "metadata": {},
   "source": [
    "<h2>Introduction</h2>"
   ]
  },
  {
   "cell_type": "markdown",
   "metadata": {},
   "source": [
    "The purpose of this project is finding the best location for a new business, in particular, I have chose restaurants and make it ideal against the competition that it could have, apart from defining which sort of group would go based on the population of the neighborhood.\n",
    "\n",
    "Thus, the parameters used will be: the already existing restaurants in general in the neighborhood, the age group of people and their income, the mentioned distance and how crowded is the neighborhood.\n"
   ]
  },
  {
   "cell_type": "markdown",
   "metadata": {},
   "source": [
    "\n",
    "    \n",
    "<h2>Business Problem:</h2>\n"
   ]
  },
  {
   "cell_type": "markdown",
   "metadata": {},
   "source": [
    "Toronto is the provincial capital of Ontario and the fastest growing city in North America. It is the anchor of an urban agglomeration, known as the Golden Horseshoe in Southern Ontario, located on the northwestern shore of Lake Ontario. It has a geographical area formerly administered by many separate municipalities, that include Etobicoke, Parkdale, Forest Hill, Weston, East York, Scarborough, Swansea, Mimico, North York and York.\n",
    "\n",
    "Aside from this vast population and big geographical area, there are many businesses became interesting, like a challenge for\n",
    "entrepreneur people who may decide which area they want to start their new business with the biggest profit. Therefore, there is a target audience: *entrepreneurs who want to open a new business in Toronto*.\n",
    "\n",
    "This project will take into account several parameters like: the already existing restaurants in general in the neighborhood, the age group of people and their income, the mentioned distance and how crowded is the neighborhood."
   ]
  }
 ],
 "metadata": {
  "kernelspec": {
   "display_name": "Python 3",
   "language": "python",
   "name": "python3"
  },
  "language_info": {
   "codemirror_mode": {
    "name": "ipython",
    "version": 3
   },
   "file_extension": ".py",
   "mimetype": "text/x-python",
   "name": "python",
   "nbconvert_exporter": "python",
   "pygments_lexer": "ipython3",
   "version": "3.7.4"
  }
 },
 "nbformat": 4,
 "nbformat_minor": 1
}
